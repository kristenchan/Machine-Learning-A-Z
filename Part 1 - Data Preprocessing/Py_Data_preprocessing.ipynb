{
 "cells": [
  {
   "cell_type": "markdown",
   "metadata": {},
   "source": [
    "# Data Preprocessing 資料預處理"
   ]
  },
  {
   "cell_type": "markdown",
   "metadata": {},
   "source": [
    "課程範例程式及資料檔下載網址： https://www.superdatascience.com/machine-learning/"
   ]
  },
  {
   "cell_type": "markdown",
   "metadata": {},
   "source": [
    "## Importing the Libraries 載入套件"
   ]
  },
  {
   "cell_type": "code",
   "execution_count": 1,
   "metadata": {
    "collapsed": true
   },
   "outputs": [],
   "source": [
    "import numpy as np\n",
    "import matplotlib.pyplot as plt\n",
    "import pandas as pd"
   ]
  },
  {
   "cell_type": "markdown",
   "metadata": {},
   "source": [
    "確認各套件版本(利用 command line 指令)"
   ]
  },
  {
   "cell_type": "code",
   "execution_count": 2,
   "metadata": {
    "scrolled": false
   },
   "outputs": [
    {
     "name": "stdout",
     "output_type": "stream",
     "text": [
      "matplotlib                2.0.2               np112py36_0  \r\n",
      "numpy                     1.12.1                   py36_0  \r\n",
      "numpydoc                  0.6.0                    py36_0  \r\n",
      "pandas                    0.20.1              np112py36_0  \r\n",
      "scikit-learn              0.18.1              np112py36_1  \r\n"
     ]
    }
   ],
   "source": [
    "!conda list | grep \"numpy\\|pandas\\|matplotlib\\|scikit-learn\" #Mac\n",
    "#!conda list | findstr \"numpy pandas matplotlib scikit-learn\" #Windows"
   ]
  },
  {
   "cell_type": "markdown",
   "metadata": {},
   "source": [
    "## Importing the Dataset 讀入資料"
   ]
  },
  {
   "cell_type": "markdown",
   "metadata": {},
   "source": [
    "利用 pd.read_csv 來載入資料，這組資料是一個 10 列(row) 4 行(column) 的薪資資料。<br>\n",
    "之後會利用 independent variables(Country, Age, Salary) 來對 dependent variable(Purchased) 進行預測。"
   ]
  },
  {
   "cell_type": "code",
   "execution_count": 3,
   "metadata": {
    "collapsed": true
   },
   "outputs": [],
   "source": [
    "path = '/Users/sun/Desktop/Machine-Learning-A-Z/Part 1 - Data Preprocessing/'\n",
    "dataset = pd.read_csv( path+'Data.csv' )"
   ]
  },
  {
   "cell_type": "code",
   "execution_count": 4,
   "metadata": {
    "scrolled": true
   },
   "outputs": [
    {
     "data": {
      "text/html": [
       "<div>\n",
       "<style>\n",
       "    .dataframe thead tr:only-child th {\n",
       "        text-align: right;\n",
       "    }\n",
       "\n",
       "    .dataframe thead th {\n",
       "        text-align: left;\n",
       "    }\n",
       "\n",
       "    .dataframe tbody tr th {\n",
       "        vertical-align: top;\n",
       "    }\n",
       "</style>\n",
       "<table border=\"1\" class=\"dataframe\">\n",
       "  <thead>\n",
       "    <tr style=\"text-align: right;\">\n",
       "      <th></th>\n",
       "      <th>Country</th>\n",
       "      <th>Age</th>\n",
       "      <th>Salary</th>\n",
       "      <th>Purchased</th>\n",
       "    </tr>\n",
       "  </thead>\n",
       "  <tbody>\n",
       "    <tr>\n",
       "      <th>0</th>\n",
       "      <td>France</td>\n",
       "      <td>44.0</td>\n",
       "      <td>72000.0</td>\n",
       "      <td>No</td>\n",
       "    </tr>\n",
       "    <tr>\n",
       "      <th>1</th>\n",
       "      <td>Spain</td>\n",
       "      <td>27.0</td>\n",
       "      <td>48000.0</td>\n",
       "      <td>Yes</td>\n",
       "    </tr>\n",
       "    <tr>\n",
       "      <th>2</th>\n",
       "      <td>Germany</td>\n",
       "      <td>30.0</td>\n",
       "      <td>54000.0</td>\n",
       "      <td>No</td>\n",
       "    </tr>\n",
       "    <tr>\n",
       "      <th>3</th>\n",
       "      <td>Spain</td>\n",
       "      <td>38.0</td>\n",
       "      <td>61000.0</td>\n",
       "      <td>No</td>\n",
       "    </tr>\n",
       "    <tr>\n",
       "      <th>4</th>\n",
       "      <td>Germany</td>\n",
       "      <td>40.0</td>\n",
       "      <td>NaN</td>\n",
       "      <td>Yes</td>\n",
       "    </tr>\n",
       "    <tr>\n",
       "      <th>5</th>\n",
       "      <td>France</td>\n",
       "      <td>35.0</td>\n",
       "      <td>58000.0</td>\n",
       "      <td>Yes</td>\n",
       "    </tr>\n",
       "    <tr>\n",
       "      <th>6</th>\n",
       "      <td>Spain</td>\n",
       "      <td>NaN</td>\n",
       "      <td>52000.0</td>\n",
       "      <td>No</td>\n",
       "    </tr>\n",
       "    <tr>\n",
       "      <th>7</th>\n",
       "      <td>France</td>\n",
       "      <td>48.0</td>\n",
       "      <td>79000.0</td>\n",
       "      <td>Yes</td>\n",
       "    </tr>\n",
       "    <tr>\n",
       "      <th>8</th>\n",
       "      <td>Germany</td>\n",
       "      <td>50.0</td>\n",
       "      <td>83000.0</td>\n",
       "      <td>No</td>\n",
       "    </tr>\n",
       "    <tr>\n",
       "      <th>9</th>\n",
       "      <td>France</td>\n",
       "      <td>37.0</td>\n",
       "      <td>67000.0</td>\n",
       "      <td>Yes</td>\n",
       "    </tr>\n",
       "  </tbody>\n",
       "</table>\n",
       "</div>"
      ],
      "text/plain": [
       "   Country   Age   Salary Purchased\n",
       "0   France  44.0  72000.0        No\n",
       "1    Spain  27.0  48000.0       Yes\n",
       "2  Germany  30.0  54000.0        No\n",
       "3    Spain  38.0  61000.0        No\n",
       "4  Germany  40.0      NaN       Yes\n",
       "5   France  35.0  58000.0       Yes\n",
       "6    Spain   NaN  52000.0        No\n",
       "7   France  48.0  79000.0       Yes\n",
       "8  Germany  50.0  83000.0        No\n",
       "9   France  37.0  67000.0       Yes"
      ]
     },
     "execution_count": 4,
     "metadata": {},
     "output_type": "execute_result"
    }
   ],
   "source": [
    "dataset"
   ]
  },
  {
   "cell_type": "markdown",
   "metadata": {},
   "source": [
    "> [Note] <br>\n",
    "> 1. Python 開始是以 `0` 開始計算"
   ]
  },
  {
   "cell_type": "markdown",
   "metadata": {},
   "source": [
    "### Dependent & independent variables 定義解釋變數及反應變數"
   ]
  },
  {
   "cell_type": "code",
   "execution_count": 5,
   "metadata": {
    "collapsed": true
   },
   "outputs": [],
   "source": [
    "X = dataset.iloc[:, :-1].values"
   ]
  },
  {
   "cell_type": "markdown",
   "metadata": {},
   "source": [
    "> [Note] <br>\n",
    "> 1. 利用 `iloc` 選取 Dataframe 中的資料 \n",
    "> 2. 使用中括號 `[]` 與 `.iloc` 可以從 Dataframe 中選擇想要的元素。要注意 Python 在指定 `0:2` 時其實是不包含 `2` (包含下界但不含上界)。\n",
    "> 3. 第一個 `:` 表示選取全部的 row，第二個 `:-1` 表示選取除了最後一行外的其他行 \n",
    "> 4. `.values` 表示取得資料，且會將 pd.Dataframe 的格式轉成 ndarray(matrix)\n",
    "> 5. 將資料轉成 ndarray(matrix) 的原因是大部分的 sklearn function 的 Input 都是 ndarray"
   ]
  },
  {
   "cell_type": "code",
   "execution_count": 6,
   "metadata": {
    "collapsed": true
   },
   "outputs": [],
   "source": [
    "y = dataset.iloc[:, 3].values"
   ]
  },
  {
   "cell_type": "markdown",
   "metadata": {},
   "source": [
    "> [Note] <br>\n",
    "> 1. `iloc`中選取行的部分，`-1` 或 `3` 都可以表示選取最後一行"
   ]
  },
  {
   "cell_type": "markdown",
   "metadata": {},
   "source": [
    "## For Python learners, summary of Object-oriented programming: classes & objects"
   ]
  },
  {
   "cell_type": "markdown",
   "metadata": {},
   "source": [
    "For those of you interested in following the Python tutorials of this course, here is a short summary of what you need to know in Object-oriented programming. In the Python tutorials, I will be talking about classes, objects and methods. Please find below a clear explanation of what these concepts are:\n",
    "\n",
    "A class is the model of something we want to build. For example, if we make a house construction plan that gathers the instructions on how to build a house, then this construction plan is the class.\n",
    "\n",
    "An object is an instance of the class. So if we take that same example of the house construction plan, then an object is simply a house. A house (the object) that was built by following the instructions of the construction plan (the class).\n",
    "And therefore there can be many objects of the same class, because we can build many houses from the construction plan.\n",
    "\n",
    "A method is a tool we can use on the object to complete a specific action. So in this same example, a tool can be to open the main door of the house if a guest is coming. A method can also be seen as a function that is applied onto the object, takes some inputs (that were defined in the class) and returns some output.\n",
    "\n",
    "Hope this helps you get the intuition of Object-oriented programming, don't hesitate to ask for more explanations in the Q&A if anything is unclear."
   ]
  },
  {
   "cell_type": "markdown",
   "metadata": {},
   "source": [
    "## Missing Data 遺失值處理"
   ]
  },
  {
   "cell_type": "markdown",
   "metadata": {},
   "source": [
    "發現反映變數中有兩個遺失值，處理遺失值的方式有以下幾種方式:\n",
    "+ 整列刪除\n",
    "+ 以平均數插補\n",
    "+ 以中位數插補\n",
    "+ 以眾數插補\n",
    "\n",
    "但因為刪除資料可能會導致有用的資訊喪失，應此較不建議此作法。"
   ]
  },
  {
   "cell_type": "markdown",
   "metadata": {},
   "source": [
    "#### Original independent variable"
   ]
  },
  {
   "cell_type": "code",
   "execution_count": 7,
   "metadata": {
    "scrolled": false
   },
   "outputs": [
    {
     "name": "stdout",
     "output_type": "stream",
     "text": [
      "[[44.0 72000.0]\n",
      " [27.0 48000.0]\n",
      " [30.0 54000.0]\n",
      " [38.0 61000.0]\n",
      " [40.0 nan]\n",
      " [35.0 58000.0]\n",
      " [nan 52000.0]\n",
      " [48.0 79000.0]\n",
      " [50.0 83000.0]\n",
      " [37.0 67000.0]]\n"
     ]
    }
   ],
   "source": [
    "print( X[:, 1:3] )"
   ]
  },
  {
   "cell_type": "markdown",
   "metadata": {},
   "source": [
    "#### Deal with missing value"
   ]
  },
  {
   "cell_type": "code",
   "execution_count": 8,
   "metadata": {
    "collapsed": true
   },
   "outputs": [],
   "source": [
    "from sklearn.preprocessing import Imputer\n",
    "imputer = Imputer(missing_values = 'NaN', strategy = 'mean', axis = 0)\n",
    "imputer = imputer.fit(X[:, 1:3]) \n",
    "X[:, 1:3] = imputer.transform(X[:, 1:3])"
   ]
  },
  {
   "cell_type": "markdown",
   "metadata": {},
   "source": [
    "> [Note] <br> \n",
    "> 1. If you can't see the full array, just run ```np.set_printoptions(theshold=np.nan)```\n",
    "> 2. Imputer：補遺失值的方法，可以使用 `mean` 、 `median` 、 `most_frequent`\n",
    "> 3. `axis=0` 針對行做處理， `axis=1` 針對列做處理\n",
    "> 4. `Imputer(missing_values = 'NaN', strategy = 'mean', axis = 0)` 視 `NaN` 為遺失值，並計算該行的平均值來取代遺失值\n",
    "> 5. `imputer.fit(X[:, 1:3])` 讓上面產生的 imputer 物件去 fit 需要處理遺失值的資料( `X[:, 1:3]` )\n",
    "> 6. `X[:, 1:3] = imputer.transform(X[:, 1:3])` 執行 imputer 物件，並取代原始資料( `X[:, 1:3]` )\n",
    "> 7. 最後兩行也可以直接用 `imputer.fit_transform` 寫成底下這樣就好了"
   ]
  },
  {
   "cell_type": "markdown",
   "metadata": {},
   "source": [
    "#### Independent variable not contain missing value"
   ]
  },
  {
   "cell_type": "code",
   "execution_count": 9,
   "metadata": {
    "scrolled": true
   },
   "outputs": [
    {
     "name": "stdout",
     "output_type": "stream",
     "text": [
      "[[44.0 72000.0]\n",
      " [27.0 48000.0]\n",
      " [30.0 54000.0]\n",
      " [38.0 61000.0]\n",
      " [40.0 63777.77777777778]\n",
      " [35.0 58000.0]\n",
      " [38.77777777777778 52000.0]\n",
      " [48.0 79000.0]\n",
      " [50.0 83000.0]\n",
      " [37.0 67000.0]]\n"
     ]
    }
   ],
   "source": [
    "print( X[:, 1:3] )"
   ]
  },
  {
   "cell_type": "markdown",
   "metadata": {},
   "source": [
    "## Categorical Data 類別型資料處理"
   ]
  },
  {
   "cell_type": "markdown",
   "metadata": {},
   "source": [
    "大多數的演算法在計算資料間的差異時會使用距離的方式量測，因此無法使用文字來做運算，所以必須將類別資料數值化。"
   ]
  },
  {
   "cell_type": "markdown",
   "metadata": {},
   "source": [
    "### Using LabelEncoder"
   ]
  },
  {
   "cell_type": "markdown",
   "metadata": {},
   "source": [
    "#### Encoding the Independent Variable -- Original independent variable"
   ]
  },
  {
   "cell_type": "code",
   "execution_count": 10,
   "metadata": {
    "scrolled": false
   },
   "outputs": [
    {
     "name": "stdout",
     "output_type": "stream",
     "text": [
      "['France' 'Spain' 'Germany' 'Spain' 'Germany' 'France' 'Spain' 'France'\n",
      " 'Germany' 'France']\n"
     ]
    }
   ],
   "source": [
    "print( X[:, 0] )"
   ]
  },
  {
   "cell_type": "markdown",
   "metadata": {},
   "source": [
    "#### Encoding the Independent Variable -- LabelEncoder "
   ]
  },
  {
   "cell_type": "code",
   "execution_count": 11,
   "metadata": {
    "collapsed": true
   },
   "outputs": [],
   "source": [
    "from sklearn.preprocessing import LabelEncoder, OneHotEncoder\n",
    "labelencoder_X = LabelEncoder()\n",
    "X[:, 0] = labelencoder_X.fit_transform(X[:, 0])"
   ]
  },
  {
   "cell_type": "code",
   "execution_count": 12,
   "metadata": {
    "scrolled": true
   },
   "outputs": [
    {
     "name": "stdout",
     "output_type": "stream",
     "text": [
      "[0 2 1 2 1 0 2 0 1 0]\n"
     ]
    }
   ],
   "source": [
    "print( X[:, 0] )"
   ]
  },
  {
   "cell_type": "markdown",
   "metadata": {},
   "source": [
    "> [Note] <br> \n",
    "> 1. LabelEncoder：將文字類別轉成數字類別的方法；e.g. A、B、C → 0、1、2 \n",
    "> 2. `X[:, 0] = labelencoder_X.fit_transform(X[:, 0])` 讓上面產生的 labelencoder_X 物件去 fit 和執行 labelencoder_X 物件，並取代原始資料( `X[:, 0]` ) "
   ]
  },
  {
   "cell_type": "markdown",
   "metadata": {},
   "source": [
    "> <font class=\"alert alert-block alert-danger\"> !注意 </font> 因為 0、1、2 間有順序關係，所以對此組資料做這樣的轉換進入 Model 後會有問題，所以必須要做 One-Hot Encoding"
   ]
  },
  {
   "cell_type": "markdown",
   "metadata": {},
   "source": [
    "#### Encoding the Dependent Variable -- Original dependent variable"
   ]
  },
  {
   "cell_type": "code",
   "execution_count": 13,
   "metadata": {},
   "outputs": [
    {
     "name": "stdout",
     "output_type": "stream",
     "text": [
      "['No' 'Yes' 'No' 'No' 'Yes' 'Yes' 'No' 'Yes' 'No' 'Yes']\n"
     ]
    }
   ],
   "source": [
    "print( y )"
   ]
  },
  {
   "cell_type": "markdown",
   "metadata": {},
   "source": [
    "#### Encoding the Dependent Variable -- LabelEncoder"
   ]
  },
  {
   "cell_type": "code",
   "execution_count": 14,
   "metadata": {
    "collapsed": true
   },
   "outputs": [],
   "source": [
    "labelencoder_y = LabelEncoder()\n",
    "y = labelencoder_y.fit_transform(y)"
   ]
  },
  {
   "cell_type": "code",
   "execution_count": 15,
   "metadata": {
    "scrolled": true
   },
   "outputs": [
    {
     "name": "stdout",
     "output_type": "stream",
     "text": [
      "[0 1 0 0 1 1 0 1 0 1]\n"
     ]
    }
   ],
   "source": [
    "print( y )"
   ]
  },
  {
   "cell_type": "markdown",
   "metadata": {},
   "source": [
    "> [Note] <br> \n",
    "> 1. dependent variable 不需要做 One-Hot Encoding，因為 Model 就會知道 dependent variable 是一個類別且之間沒有關係"
   ]
  },
  {
   "cell_type": "markdown",
   "metadata": {},
   "source": [
    "### Using OneHotEncoder ( Categorical ) "
   ]
  },
  {
   "cell_type": "markdown",
   "metadata": {},
   "source": [
    "![](plot_1_1.png)"
   ]
  },
  {
   "cell_type": "markdown",
   "metadata": {},
   "source": [
    "#### Original independent variable Shape"
   ]
  },
  {
   "cell_type": "code",
   "execution_count": 16,
   "metadata": {
    "scrolled": true
   },
   "outputs": [
    {
     "name": "stdout",
     "output_type": "stream",
     "text": [
      "(10, 3)\n"
     ]
    }
   ],
   "source": [
    "print( X.shape )"
   ]
  },
  {
   "cell_type": "markdown",
   "metadata": {},
   "source": [
    "#### OneHotEncoder"
   ]
  },
  {
   "cell_type": "code",
   "execution_count": 17,
   "metadata": {
    "collapsed": true
   },
   "outputs": [],
   "source": [
    "onehotencoder = OneHotEncoder(categorical_features = [0])\n",
    "X = onehotencoder.fit_transform(X).toarray()"
   ]
  },
  {
   "cell_type": "code",
   "execution_count": 18,
   "metadata": {},
   "outputs": [
    {
     "name": "stdout",
     "output_type": "stream",
     "text": [
      "(10, 5)\n"
     ]
    }
   ],
   "source": [
    "print( X.shape )"
   ]
  },
  {
   "cell_type": "markdown",
   "metadata": {},
   "source": [
    "> [Note] <br> \n",
    "> 1. `categorical_features = [0]` 表示針對這筆資料的第一行去做 OneHotEncoder ，所以下面的程式碼就不需指定要針對哪一行處理\n",
    "> 2. 因為 3 個類別，總共會用 3 個變數表示，所以維度就增加了"
   ]
  },
  {
   "cell_type": "markdown",
   "metadata": {},
   "source": [
    "## Splitting the dataset into the Training set and Test set 切分訓練及測試樣本"
   ]
  },
  {
   "cell_type": "code",
   "execution_count": 19,
   "metadata": {
    "collapsed": true
   },
   "outputs": [],
   "source": [
    "from sklearn.model_selection import train_test_split\n",
    "X_train, X_test, y_train, y_test = train_test_split(X, y, test_size = 0.2, random_state = 0)"
   ]
  },
  {
   "cell_type": "markdown",
   "metadata": {},
   "source": [
    "> [Note] <br>\n",
    "> 1. 舊版 <br>\n",
    "```from sklearn.cross_validation import train_test_split\n",
    "X_train, X_test, y_train, y_test = train_test_split(X, y, test_size = 0.2, random_state = 0)\n",
    "```\n",
    "> 2. `test_size = 0.2` test 資料集要切多少，大多切 0.2、0.25、0.3\n",
    "> 3. `random_state = 0` 設定random seed 讓每次切分出來的結果相同"
   ]
  },
  {
   "cell_type": "markdown",
   "metadata": {},
   "source": [
    "## Feature Scaling 數值型資料尺度轉換"
   ]
  },
  {
   "cell_type": "markdown",
   "metadata": {},
   "source": [
    "![](plot_1_2.png)"
   ]
  },
  {
   "cell_type": "markdown",
   "metadata": {},
   "source": [
    "> [Note] <br>\n",
    "> 1. 大多數的 machine learning 方法都是基於歐幾里德距離，若變數間 Scale 不同的話就會造成很大的影響； <br>\n",
    "> e.g. Salary_A:$79000$，Salary_B:$48000$；Salary_distance:$(79000-48000)^2=961000000$ <br>\n",
    "> e.g. Age_A:$48$，Age_B:$27$；Age_distance:$(48-27)^2=441$"
   ]
  },
  {
   "cell_type": "markdown",
   "metadata": {},
   "source": [
    "|<h4>Standardisation</h4>|<h4>Normalisation</h4>|\n",
    "|---|---|\n",
    "|$X_{Std} = \\frac{X - mean(X)}{std(X)}$|$X_{norm} = \\frac{X - min(X)}{max(X) - min(X)}$|"
   ]
  },
  {
   "cell_type": "code",
   "execution_count": 20,
   "metadata": {
    "collapsed": true
   },
   "outputs": [],
   "source": [
    "from sklearn.preprocessing import StandardScaler\n",
    "sc_X = StandardScaler()\n",
    "X_train = sc_X.fit_transform(X_train)\n",
    "X_test = sc_X.transform(X_test)"
   ]
  },
  {
   "cell_type": "markdown",
   "metadata": {},
   "source": [
    "> [Note] <br>\n",
    "> 1. 已經轉化成 One-Hot Encoding 的變數需要做 Scaling 嗎？ <br>\n",
    ">   (1) 可以做 Scaling ，這樣可以讓 Model 配適的更好，因為大家的 Scale 相同 <br>\n",
    ">   (2) 不做 Scaling ，因為這樣可以保留原本變數中想表達的意義，且才可以解釋 <br>\n",
    "> 2. Dependent Variable 需要做 Scaling 嗎？這裡因為 Dependent Variable 是類別所以不需做， Model會已經知道他是類別的 <br>\n",
    "> 3. 不是基於歐幾里德距離的 Model 有需要做 Scaling 嗎？\n",
    "> e.g. Decision Trees 若做了 Scaling 則可以讓他收斂的更快"
   ]
  },
  {
   "cell_type": "markdown",
   "metadata": {},
   "source": [
    "## How to Set Up Working Directory 設定工作目錄"
   ]
  },
  {
   "cell_type": "markdown",
   "metadata": {
    "collapsed": true
   },
   "source": [
    "In Spyder there are a few way to set a working directory. \n",
    "1. use a small folder icon in upper right corner of Spyder interface to navigate to your chosen directory.\n",
    "2. click on a long box in the top right part of Spyder where you see your directory path and navigate to your chosen directory.\n",
    "3. select the folder in the File Explorer then select 'Reset kernel' for the console by selecting the little gear icon on the right side of the console pane. By default the console pane it is in the right lower corner. \n",
    "4. You can use online commands. To see your current working directory run \n",
    "```\n",
    "import os\n",
    "os.getcwd()\n",
    "```\n",
    "To change it use the following format with your path to the directory. To know what is correct format for your computer paths look at the result of the previous command."
   ]
  },
  {
   "cell_type": "markdown",
   "metadata": {},
   "source": [
    "#### 檢查目前所在目錄"
   ]
  },
  {
   "cell_type": "code",
   "execution_count": 21,
   "metadata": {},
   "outputs": [
    {
     "data": {
      "text/plain": [
       "'/Users/sun/Desktop/Machine-Learning-A-Z/Part 1 - Data Preprocessing'"
      ]
     },
     "execution_count": 21,
     "metadata": {},
     "output_type": "execute_result"
    }
   ],
   "source": [
    "import os\n",
    "os.getcwd()"
   ]
  },
  {
   "cell_type": "markdown",
   "metadata": {},
   "source": [
    "#### 切換工作目錄"
   ]
  },
  {
   "cell_type": "code",
   "execution_count": 22,
   "metadata": {
    "collapsed": true
   },
   "outputs": [],
   "source": [
    "path = os.getcwd()\n",
    "os.chdir( path )"
   ]
  },
  {
   "cell_type": "markdown",
   "metadata": {},
   "source": [
    "## <div class=\"alert alert-block alert-warning\"> My Note </div>"
   ]
  },
  {
   "cell_type": "markdown",
   "metadata": {},
   "source": [
    "#### Python format"
   ]
  },
  {
   "cell_type": "code",
   "execution_count": 23,
   "metadata": {},
   "outputs": [
    {
     "name": "stdout",
     "output_type": "stream",
     "text": [
      "小數點後五位.5f: 3.14159\n",
      "共五個數字.5g: 3.1416\n"
     ]
    }
   ],
   "source": [
    "import math\n",
    "print('小數點後五位.5f: {:.5f}'.format(math.pi))\n",
    "print('共五個數字.5g: {:.5g}'.format(math.pi))"
   ]
  }
 ],
 "metadata": {
  "kernelspec": {
   "display_name": "Python 3",
   "language": "python",
   "name": "python3"
  },
  "language_info": {
   "codemirror_mode": {
    "name": "ipython",
    "version": 3
   },
   "file_extension": ".py",
   "mimetype": "text/x-python",
   "name": "python",
   "nbconvert_exporter": "python",
   "pygments_lexer": "ipython3",
   "version": "3.6.2"
  }
 },
 "nbformat": 4,
 "nbformat_minor": 2
}
